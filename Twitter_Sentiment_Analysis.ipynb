{
 "cells": [
  {
   "cell_type": "markdown",
   "metadata": {
    "id": "LzC5f2I9rzUj"
   },
   "source": [
    "# Twitter Sentiment Analysis"
   ]
  },
  {
   "cell_type": "markdown",
   "metadata": {
    "id": "lo14ZkN9rdiq"
   },
   "source": [
    "### In this project, we try to implement a Twitter sentiment analysis model that helps to overcome the challenges of identifying the sentiments of the tweets whether they are positive, negative or neutral in nature."
   ]
  },
  {
   "cell_type": "markdown",
   "metadata": {
    "id": "hUviux_Or_Go"
   },
   "source": [
    "# Quick Info\n",
    "\n",
    "Dataset contains two columns :\n",
    "\n",
    "**clean_text** --> which consist of tweets\n",
    "\n",
    "**category** --> which consist of three categories\n",
    "\n",
    "    :- -1 ---> negative tweet\n",
    "    :- 1 ---> postive tweet\n",
    "    :- 0 ---> neutral tweet\n",
    "\n",
    "---\n",
    "\n"
   ]
  },
  {
   "cell_type": "markdown",
   "metadata": {
    "id": "n8Qw5xGnulND"
   },
   "source": [
    "## Model Used\n",
    "\n",
    "    SVM:- It tries to maximize the margin between the closest support vectors\n",
    "\n",
    "Also as compared to other Machine Learning model's SVC was showing the Highest accuracy.\n",
    "\n",
    "---"
   ]
  },
  {
   "cell_type": "markdown",
   "metadata": {
    "id": "rAJp6hJtvmy0"
   },
   "source": [
    "## Data Visualization\n",
    "\n",
    "    1. Plotting the distribution for dataset.\n",
    "\n",
    "    2. Count Plot\n",
    "\n",
    "\n",
    "---"
   ]
  },
  {
   "cell_type": "code",
   "execution_count": 12,
   "metadata": {
    "colab": {
     "base_uri": "https://localhost:8080/"
    },
    "id": "tPPxL1nPqwu9",
    "outputId": "009f3668-9a39-4650-f21c-167dad1a5506"
   },
   "outputs": [
    {
     "name": "stdout",
     "output_type": "stream",
     "text": [
      "Drive already mounted at /content/drive; to attempt to forcibly remount, call drive.mount(\"/content/drive\", force_remount=True).\n"
     ]
    }
   ],
   "source": [
    "from google.colab import drive\n",
    "drive.mount('/content/drive')"
   ]
  },
  {
   "cell_type": "code",
   "execution_count": null,
   "metadata": {
    "id": "W1dG9H5ctVqA"
   },
   "outputs": [],
   "source": [
    "# Installing necessary requirements\n",
    "!pip install tweet-preprocessor\n",
    "\n",
    "# importing the Libraries\n",
    "\n",
    "import sklearn\n",
    "import numpy as np\n",
    "import pandas as pd\n",
    "import seaborn as sns"
   ]
  },
  {
   "cell_type": "code",
   "execution_count": 13,
   "metadata": {
    "colab": {
     "base_uri": "https://localhost:8080/",
     "height": 204
    },
    "id": "FoGgaU1XLXqb",
    "outputId": "1b309f0b-5492-42c5-e63c-434325240e7f"
   },
   "outputs": [
    {
     "data": {
      "text/html": [
       "<div>\n",
       "<style scoped>\n",
       "    .dataframe tbody tr th:only-of-type {\n",
       "        vertical-align: middle;\n",
       "    }\n",
       "\n",
       "    .dataframe tbody tr th {\n",
       "        vertical-align: top;\n",
       "    }\n",
       "\n",
       "    .dataframe thead th {\n",
       "        text-align: right;\n",
       "    }\n",
       "</style>\n",
       "<table border=\"1\" class=\"dataframe\">\n",
       "  <thead>\n",
       "    <tr style=\"text-align: right;\">\n",
       "      <th></th>\n",
       "      <th>clean_text</th>\n",
       "      <th>category</th>\n",
       "    </tr>\n",
       "  </thead>\n",
       "  <tbody>\n",
       "    <tr>\n",
       "      <th>0</th>\n",
       "      <td>when modi promised “minimum government maximum...</td>\n",
       "      <td>-1.0</td>\n",
       "    </tr>\n",
       "    <tr>\n",
       "      <th>1</th>\n",
       "      <td>talk all the nonsense and continue all the dra...</td>\n",
       "      <td>0.0</td>\n",
       "    </tr>\n",
       "    <tr>\n",
       "      <th>2</th>\n",
       "      <td>what did just say vote for modi  welcome bjp t...</td>\n",
       "      <td>1.0</td>\n",
       "    </tr>\n",
       "    <tr>\n",
       "      <th>3</th>\n",
       "      <td>asking his supporters prefix chowkidar their n...</td>\n",
       "      <td>1.0</td>\n",
       "    </tr>\n",
       "    <tr>\n",
       "      <th>4</th>\n",
       "      <td>answer who among these the most powerful world...</td>\n",
       "      <td>1.0</td>\n",
       "    </tr>\n",
       "  </tbody>\n",
       "</table>\n",
       "</div>"
      ],
      "text/plain": [
       "                                          clean_text  category\n",
       "0  when modi promised “minimum government maximum...      -1.0\n",
       "1  talk all the nonsense and continue all the dra...       0.0\n",
       "2  what did just say vote for modi  welcome bjp t...       1.0\n",
       "3  asking his supporters prefix chowkidar their n...       1.0\n",
       "4  answer who among these the most powerful world...       1.0"
      ]
     },
     "execution_count": 13,
     "metadata": {},
     "output_type": "execute_result"
    }
   ],
   "source": [
    "df = pd.read_csv('/content/drive/MyDrive/twitter/Twitter_Data.csv')\n",
    "df.head()"
   ]
  },
  {
   "cell_type": "markdown",
   "metadata": {
    "id": "GC3_3jMnyb7Q"
   },
   "source": [
    "## Exploratory Data Analysis\n",
    "\n",
    "---"
   ]
  },
  {
   "cell_type": "code",
   "execution_count": 35,
   "metadata": {
    "colab": {
     "base_uri": "https://localhost:8080/"
    },
    "id": "-w7DGBIftTu4",
    "outputId": "2456bd08-ac73-4d79-9669-8ee53b4ee8b4"
   },
   "outputs": [
    {
     "data": {
      "text/plain": [
       "(162969, 2)"
      ]
     },
     "execution_count": 35,
     "metadata": {},
     "output_type": "execute_result"
    }
   ],
   "source": [
    "df. shape"
   ]
  },
  {
   "cell_type": "code",
   "execution_count": 36,
   "metadata": {
    "colab": {
     "base_uri": "https://localhost:8080/"
    },
    "id": "O8E4KFJHtY2b",
    "outputId": "7ffea2e2-236c-4b21-878b-feeb794562f3"
   },
   "outputs": [
    {
     "name": "stdout",
     "output_type": "stream",
     "text": [
      "<class 'pandas.core.frame.DataFrame'>\n",
      "Int64Index: 162969 entries, 0 to 162979\n",
      "Data columns (total 2 columns):\n",
      " #   Column      Non-Null Count   Dtype  \n",
      "---  ------      --------------   -----  \n",
      " 0   clean_text  162969 non-null  object \n",
      " 1   category    162969 non-null  float64\n",
      "dtypes: float64(1), object(1)\n",
      "memory usage: 3.7+ MB\n"
     ]
    }
   ],
   "source": [
    "df.info()"
   ]
  },
  {
   "cell_type": "code",
   "execution_count": 37,
   "metadata": {
    "colab": {
     "base_uri": "https://localhost:8080/"
    },
    "id": "hqTDiTbxtbP-",
    "outputId": "8253b122-d453-45dd-fcf3-f99f7e3479a0"
   },
   "outputs": [
    {
     "data": {
      "text/plain": [
       "clean_text     object\n",
       "category      float64\n",
       "dtype: object"
      ]
     },
     "execution_count": 37,
     "metadata": {},
     "output_type": "execute_result"
    }
   ],
   "source": [
    "df.dtypes"
   ]
  },
  {
   "cell_type": "markdown",
   "metadata": {
    "id": "m-cNuC7ztyd3"
   },
   "source": [
    "## Data Visualization\n",
    "\n",
    "---\n"
   ]
  },
  {
   "cell_type": "code",
   "execution_count": 39,
   "metadata": {
    "colab": {
     "base_uri": "https://localhost:8080/",
     "height": 295
    },
    "id": "5SR0R-T9tgb9",
    "outputId": "0ee47544-f079-4c96-f115-e8aee15a1204"
   },
   "outputs": [
    {
     "data": {
      "image/png": "[encoded data removed]",
      "text/plain": [
       "<Figure size 432x288 with 1 Axes>"
      ]
     },
     "metadata": {
      "needs_background": "light"
     },
     "output_type": "display_data"
    }
   ],
   "source": [
    "# Plotting the distribution for dataset.\n",
    "ax = df.groupby('category').count().plot(kind='bar', title='Distribution of data',legend=False)\n",
    "ax.set_xticklabels(['Negative','Positive', 'neutral'], rotation=0)\n",
    "# Storing data in lists.\n",
    "text, sentiment = list(df['clean_text']), list(df['category'])"
   ]
  },
  {
   "cell_type": "code",
   "execution_count": 40,
   "metadata": {
    "colab": {
     "base_uri": "https://localhost:8080/",
     "height": 296
    },
    "id": "oOJz6MYzttkx",
    "outputId": "bdca9feb-872a-474c-b312-db55b66c188a"
   },
   "outputs": [
    {
     "data": {
      "text/plain": [
       "<matplotlib.axes._subplots.AxesSubplot at 0x7efc55779850>"
      ]
     },
     "execution_count": 40,
     "metadata": {},
     "output_type": "execute_result"
    },
    {
     "data": {
      "image/png": "[encoded data removed]",
      "text/plain": [
       "<Figure size 432x288 with 1 Axes>"
      ]
     },
     "metadata": {
      "needs_background": "light"
     },
     "output_type": "display_data"
    }
   ],
   "source": [
    "sns.countplot(x='category', data=df)"
   ]
  },
  {
   "cell_type": "code",
   "execution_count": 16,
   "metadata": {
    "colab": {
     "base_uri": "https://localhost:8080/"
    },
    "id": "m6tqdbRMNbSF",
    "outputId": "13c0a563-d15f-4bc6-d492-3cf160488f48"
   },
   "outputs": [
    {
     "data": {
      "text/plain": [
       "55213"
      ]
     },
     "execution_count": 16,
     "metadata": {},
     "output_type": "execute_result"
    }
   ],
   "source": [
    "sum(df[\"category\"] == 0)"
   ]
  },
  {
   "cell_type": "code",
   "execution_count": 17,
   "metadata": {
    "colab": {
     "base_uri": "https://localhost:8080/"
    },
    "id": "soD5S5HVOOVQ",
    "outputId": "caf5ce18-21a1-4d25-880b-ee09b5efc4e8"
   },
   "outputs": [
    {
     "data": {
      "text/plain": [
       "72250"
      ]
     },
     "execution_count": 17,
     "metadata": {},
     "output_type": "execute_result"
    }
   ],
   "source": [
    "sum(df[\"category\"] == 1)"
   ]
  },
  {
   "cell_type": "code",
   "execution_count": 18,
   "metadata": {
    "colab": {
     "base_uri": "https://localhost:8080/"
    },
    "id": "KMQd9sneOQUt",
    "outputId": "dfc73a4b-24cc-482d-f095-e631230cca6c"
   },
   "outputs": [
    {
     "data": {
      "text/plain": [
       "35510"
      ]
     },
     "execution_count": 18,
     "metadata": {},
     "output_type": "execute_result"
    }
   ],
   "source": [
    "sum(df[\"category\"] == -1)"
   ]
  },
  {
   "cell_type": "code",
   "execution_count": 19,
   "metadata": {
    "colab": {
     "base_uri": "https://localhost:8080/"
    },
    "id": "a-5p_d6wOi-U",
    "outputId": "f4efcb81-483b-4e14-bdc8-00bd0d28654e"
   },
   "outputs": [
    {
     "data": {
      "text/plain": [
       "clean_text    4\n",
       "category      7\n",
       "dtype: int64"
      ]
     },
     "execution_count": 19,
     "metadata": {},
     "output_type": "execute_result"
    }
   ],
   "source": [
    "df.isnull().sum()"
   ]
  },
  {
   "cell_type": "code",
   "execution_count": 20,
   "metadata": {
    "colab": {
     "base_uri": "https://localhost:8080/"
    },
    "id": "hTTI8iNzQPFQ",
    "outputId": "edccbdc8-af31-46aa-dd4f-e82848ddabb5"
   },
   "outputs": [
    {
     "data": {
      "text/plain": [
       "clean_text    0\n",
       "category      0\n",
       "dtype: int64"
      ]
     },
     "execution_count": 20,
     "metadata": {},
     "output_type": "execute_result"
    }
   ],
   "source": [
    "df = df.dropna(axis = 0, how ='any')\n",
    "df.isnull().sum()"
   ]
  },
  {
   "cell_type": "code",
   "execution_count": 23,
   "metadata": {
    "id": "sLuQcO7bqcai"
   },
   "outputs": [],
   "source": [
    "# reducing the size of Dataset\n",
    "df1 = df[:20000]"
   ]
  },
  {
   "cell_type": "markdown",
   "metadata": {
    "id": "AdPgzBsvyuSk"
   },
   "source": [
    "## Splitting the Dataset\n",
    "\n",
    "---"
   ]
  },
  {
   "cell_type": "code",
   "execution_count": 24,
   "metadata": {
    "id": "A4aEwRoSO9uz"
   },
   "outputs": [],
   "source": [
    "from sklearn.model_selection import train_test_split\n",
    "\n",
    "# extract the labels from the train data\n",
    "y = df1.category.values\n",
    "\n",
    "# use 70% for the training and 30% for the test\n",
    "x_train, x_test, y_train, y_test = train_test_split(df1.clean_text.values, y, \n",
    "                                                    stratify=y, \n",
    "                                                    random_state=1, \n",
    "                                                    test_size=0.3, shuffle=True)"
   ]
  },
  {
   "cell_type": "markdown",
   "metadata": {
    "id": "Z8bjmt_Aywwy"
   },
   "source": [
    "## Transforming Dataset using Count Vectorizer\n",
    "\n",
    "---"
   ]
  },
  {
   "cell_type": "code",
   "execution_count": 26,
   "metadata": {
    "id": "0zh85ijOQhFP"
   },
   "outputs": [],
   "source": [
    "from sklearn.feature_extraction.text import CountVectorizer\n",
    "\n",
    "# vectorize tweets for model building\n",
    "vectorizer = CountVectorizer(binary=True, stop_words='english')\n",
    "\n",
    "# learn a vocabulary dictionary of all tokens in the raw documents\n",
    "vectorizer.fit(list(x_train) + list(x_test))\n",
    "\n",
    "# transform documents to document-term matrix\n",
    "x_train_vec = vectorizer.transform(x_train)\n",
    "x_test_vec = vectorizer.transform(x_test)"
   ]
  },
  {
   "cell_type": "markdown",
   "metadata": {
    "id": "k4lMnq8hy9lO"
   },
   "source": [
    "## Training the Model on the training dataset obtained by spliting the Dataset\n",
    "\n",
    "---"
   ]
  },
  {
   "cell_type": "code",
   "execution_count": 27,
   "metadata": {
    "id": "4YOVyujJQvXS"
   },
   "outputs": [],
   "source": [
    "from sklearn import svm\n",
    "# classify using support vector classifier\n",
    "svm = svm.SVC(kernel = 'linear', probability=True)\n",
    "\n",
    "# fit the SVC model based on the given training data\n",
    "prob = svm.fit(x_train_vec, y_train).predict_proba(x_test_vec)\n",
    "\n",
    "# perform classification and prediction on samples in x_test\n",
    "y_pred_svm = svm.predict(x_test_vec)"
   ]
  },
  {
   "cell_type": "markdown",
   "metadata": {
    "id": "NiMgsjRQzE8l"
   },
   "source": [
    "## Displaying the Accuracy\n",
    "\n",
    "---"
   ]
  },
  {
   "cell_type": "code",
   "execution_count": 28,
   "metadata": {
    "colab": {
     "base_uri": "https://localhost:8080/"
    },
    "id": "XlfWjpxRQyZh",
    "outputId": "29f5c176-6f9e-43f8-84b8-d6383991050c"
   },
   "outputs": [
    {
     "name": "stdout",
     "output_type": "stream",
     "text": [
      "Accuracy score for SVC is:  79.11666666666667 %\n"
     ]
    }
   ],
   "source": [
    "from sklearn.metrics import accuracy_score\n",
    "print(\"Accuracy score for SVC is: \", accuracy_score(y_test, y_pred_svm) * 100, '%')"
   ]
  },
  {
   "cell_type": "markdown",
   "metadata": {
    "id": "xfdXPURH06rG"
   },
   "source": [
    "## Displaying the Accuracy as the length of dataset increases\n",
    "\n",
    "\n",
    "---"
   ]
  },
  {
   "cell_type": "code",
   "execution_count": 34,
   "metadata": {
    "colab": {
     "base_uri": "https://localhost:8080/"
    },
    "id": "7Sn4s5PuxeQJ",
    "outputId": "96516e4d-43c7-4032-c141-6a4c1a4c03ea"
   },
   "outputs": [
    {
     "name": "stdout",
     "output_type": "stream",
     "text": [
      "for data set with rows =  20000 \n",
      " Accuracy score for SVC is:  79.11666666666667 % \n",
      "\n",
      " for data set with rows =  25000 \n",
      " Accuracy score for SVC is:  79.84 % \n",
      "\n",
      " for data set with rows =  30000 \n",
      " Accuracy score for SVC is:  81.23333333333333 % \n",
      "\n",
      " for data set with rows =  35000 \n",
      " Accuracy score for SVC is:  82.6952380952381 % \n",
      "\n"
     ]
    }
   ],
   "source": [
    "for i in range(20000, 40000, 5000):\n",
    "  print(\"for data set with rows = \", i)\n",
    "  df1 = df[:i]\n",
    "  from sklearn.model_selection import train_test_split\n",
    "\n",
    "  y = df1.category.values\n",
    "\n",
    "  x_train, x_test, y_train, y_test = train_test_split(df1.clean_text.values, y, \n",
    "                                                      stratify=y, \n",
    "                                                      random_state=1, \n",
    "                                                      test_size=0.3, shuffle=True)\n",
    "  from sklearn.feature_extraction.text import CountVectorizer\n",
    "\n",
    "  vectorizer = CountVectorizer(binary=True, stop_words='english')\n",
    "\n",
    "  vectorizer.fit(list(x_train) + list(x_test))\n",
    "\n",
    "  x_train_vec = vectorizer.transform(x_train)\n",
    "\n",
    "  x_test_vec = vectorizer.transform(x_test)\n",
    "\n",
    "  from sklearn import svm\n",
    "\n",
    "  svm = svm.SVC(kernel = 'linear', probability=True)\n",
    "\n",
    "  prob = svm.fit(x_train_vec, y_train).predict_proba(x_test_vec)\n",
    "\n",
    "  y_pred_svm = svm.predict(x_test_vec)\n",
    "\n",
    "  from sklearn.metrics import accuracy_score\n",
    "\n",
    "  print(\"Accuracy score for SVC is: \", accuracy_score(y_test, y_pred_svm) * 100, '%', \"\\n\")"
   ]
  },
  {
   "cell_type": "markdown",
   "metadata": {
    "id": "sr6Tf99Tv5Aq"
   },
   "source": [
    "## Conclusion\n",
    "\n",
    "---\n",
    "\n",
    "As we can see that the Accuracy of the model is increasing as the Dataset is increasing, we can get a rough idea that on training it on the Dataset of more than 1.5 lakh rows it will definetly give a very high Accuracy.\n",
    "\n",
    "    The More the Length of the Dataset the more will be the Accuracy of the model.\n",
    "\n",
    "\n",
    "NOTE:\n",
    "\n",
    "    Since the Training Requires more Computation Power, this notebook was only able to achieve an accuracy of 82.7% considering 35000 rows for training. Increasing the training data requires high Computation power through which we will be able to achieve High accuracy. \n",
    "\n",
    "\n",
    "Hence, we have successfully Build a model on Twitter Sentiment Analysis as per the given Categories\n",
    "\n",
    "---"
   ]
  },
  {
   "cell_type": "code",
   "execution_count": null,
   "metadata": {
    "id": "coFu0My_1VGk"
   },
   "outputs": [],
   "source": []
  }
 ],
 "metadata": {
  "accelerator": "GPU",
  "colab": {
   "collapsed_sections": [],
   "name": "Tweeter Sentiment Analysis.ipynb",
   "provenance": []
  },
  "kernelspec": {
   "display_name": "Python 3",
   "language": "python",
   "name": "python3"
  },
  "language_info": {
   "codemirror_mode": {
    "name": "ipython",
    "version": 3
   },
   "file_extension": ".py",
   "mimetype": "text/x-python",
   "name": "python",
   "nbconvert_exporter": "python",
   "pygments_lexer": "ipython3",
   "version": "3.7.9"
  }
 },
 "nbformat": 4,
 "nbformat_minor": 1
}
